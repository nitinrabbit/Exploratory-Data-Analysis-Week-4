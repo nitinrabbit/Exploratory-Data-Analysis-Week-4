{
 "cells": [
  {
   "cell_type": "code",
   "execution_count": 1,
   "metadata": {
    "collapsed": false
   },
   "outputs": [
    {
     "ename": "ERROR",
     "evalue": "Error in eval(expr, envir, enclos): could not find function \"ggplot\"\n",
     "output_type": "error",
     "traceback": [
      "Error in eval(expr, envir, enclos): could not find function \"ggplot\"\nTraceback:\n"
     ]
    }
   ],
   "source": [
    "NEI <- readRDS(\"/Users/nitinsingh/github/EDA_Coursera_Week4/data/summarySCC_PM25.rds\")\n",
    "SCC <- readRDS(\"/Users/nitinsingh/github/EDA_Coursera_Week4/data/Source_Classification_Code.rds\")\n",
    "\n",
    "NEI$year <- factor(NEI$year, levels=c('1999', '2002', '2005', '2008'))\n",
    "\n",
    "# Baltimore City, Maryland\n",
    "# Los Angeles County, California\n",
    "MD.onroad <- subset(NEI, fips == '24510' & type == 'ON-ROAD')\n",
    "CA.onroad <- subset(NEI, fips == '06037' & type == 'ON-ROAD')\n",
    "\n",
    "# Aggregate\n",
    "MD.DF <- aggregate(MD.onroad[, 'Emissions'], by=list(MD.onroad$year), sum)\n",
    "colnames(MD.DF) <- c('year', 'Emissions')\n",
    "MD.DF$City <- paste(rep('MD', 4))\n",
    "\n",
    "CA.DF <- aggregate(CA.onroad[, 'Emissions'], by=list(CA.onroad$year), sum)\n",
    "colnames(CA.DF) <- c('year', 'Emissions')\n",
    "CA.DF$City <- paste(rep('CA', 4))\n",
    "\n",
    "DF <- as.data.frame(rbind(MD.DF, CA.DF))\n",
    "\n",
    "# Compare emissions from motor vehicle sources in Baltimore City with emissions from motor vehicle sources \n",
    "# in Los Angeles County, California (fips == 06037). Which city has seen greater changes over time \n",
    "# in motor vehicle emissions?\n",
    "\n",
    "# Generate the graph in the same directory as the source code\n"
   ]
  },
  {
   "cell_type": "code",
   "execution_count": 2,
   "metadata": {
    "collapsed": false
   },
   "outputs": [
    {
     "data": {},
     "metadata": {},
     "output_type": "display_data"
    },
    {
     "data": {
      "text/html": [
       "<strong>pdf:</strong> 2"
      ],
      "text/latex": [
       "\\textbf{pdf:} 2"
      ],
      "text/markdown": [
       "**pdf:** 2"
      ],
      "text/plain": [
       "pdf \n",
       "  2 "
      ]
     },
     "metadata": {},
     "output_type": "display_data"
    }
   ],
   "source": [
    "library(ggplot2)\n",
    "png('plot6.png')\n",
    "\n",
    "ggplot(data=DF, aes(x=year, y=Emissions)) + geom_bar(aes(fill=year)) + guides(fill=F) + \n",
    "    ggtitle('Total Emissions of Motor Vehicle Sources\\nLos Angeles County, California vs. Baltimore City, Maryland') + \n",
    "    ylab(expression('PM'[2.5])) + xlab('Year') + theme(legend.position='none') + facet_grid(. ~ City) + \n",
    "    geom_text(aes(label=round(Emissions,0), size=1, hjust=0.5, vjust=-1))\n",
    "\n",
    "dev.off()"
   ]
  },
  {
   "cell_type": "code",
   "execution_count": null,
   "metadata": {
    "collapsed": true
   },
   "outputs": [],
   "source": []
  }
 ],
 "metadata": {
  "kernelspec": {
   "display_name": "R",
   "language": "R",
   "name": "ir"
  },
  "language_info": {
   "codemirror_mode": "r",
   "file_extension": ".r",
   "mimetype": "text/x-r-source",
   "name": "R",
   "pygments_lexer": "r",
   "version": "3.3.2"
  }
 },
 "nbformat": 4,
 "nbformat_minor": 0
}
