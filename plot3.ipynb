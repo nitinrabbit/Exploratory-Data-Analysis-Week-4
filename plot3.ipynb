{
 "cells": [
  {
   "cell_type": "code",
   "execution_count": 1,
   "metadata": {
    "collapsed": true
   },
   "outputs": [],
   "source": [
    "NEI <- readRDS(\"/Users/nitinsingh/github/EDA_Coursera_Week4/data/summarySCC_PM25.rds\")\n",
    "SCC <- readRDS(\"/Users/nitinsingh/github/EDA_Coursera_Week4/data/Source_Classification_Code.rds\")"
   ]
  },
  {
   "cell_type": "code",
   "execution_count": 2,
   "metadata": {
    "collapsed": false
   },
   "outputs": [
    {
     "name": "stderr",
     "output_type": "stream",
     "text": [
      "Loading required package: ggplot2\n"
     ]
    }
   ],
   "source": [
    "require(ggplot2)\n",
    "MD <- subset(NEI, fips == 24510)"
   ]
  },
  {
   "cell_type": "code",
   "execution_count": 16,
   "metadata": {
    "collapsed": false
   },
   "outputs": [],
   "source": [
    "MD$year <- factor(MD$year, levels=c('1999', '2002', '2005', '2008'))"
   ]
  },
  {
   "cell_type": "code",
   "execution_count": 27,
   "metadata": {
    "collapsed": false
   },
   "outputs": [
    {
     "data": {},
     "metadata": {},
     "output_type": "display_data"
    },
    {
     "data": {
      "text/html": [
       "<strong>pdf:</strong> 2"
      ],
      "text/latex": [
       "\\textbf{pdf:} 2"
      ],
      "text/markdown": [
       "**pdf:** 2"
      ],
      "text/plain": [
       "pdf \n",
       "  2 "
      ]
     },
     "metadata": {},
     "output_type": "display_data"
    }
   ],
   "source": [
    "png(\"plot3.png\", width=480, height=480)\n",
    "ggplot(data = MD,aes(x=year,y = Emissions,fill=type)) +\n",
    "  geom_bar(stat=\"identity\") +\n",
    "  theme_bw() + guides(fill=F)+\n",
    "  facet_grid(.~type,scales = \"free\",space=\"free\") + \n",
    "  labs(x=\"year\", y=expression(\"Total PM\"[2.5]*\" Emission (Tons)\")) + \n",
    "  labs(title=expression(\"PM\"[2.5]*\" Emissions, Baltimore City 1999-2008 by Source Type\"))\n",
    "\n",
    "dev.off()"
   ]
  },
  {
   "cell_type": "code",
   "execution_count": null,
   "metadata": {
    "collapsed": false
   },
   "outputs": [],
   "source": [
    "\n"
   ]
  },
  {
   "cell_type": "code",
   "execution_count": null,
   "metadata": {
    "collapsed": true
   },
   "outputs": [],
   "source": []
  }
 ],
 "metadata": {
  "kernelspec": {
   "display_name": "R",
   "language": "R",
   "name": "ir"
  },
  "language_info": {
   "codemirror_mode": "r",
   "file_extension": ".r",
   "mimetype": "text/x-r-source",
   "name": "R",
   "pygments_lexer": "r",
   "version": "3.3.2"
  }
 },
 "nbformat": 4,
 "nbformat_minor": 0
}
