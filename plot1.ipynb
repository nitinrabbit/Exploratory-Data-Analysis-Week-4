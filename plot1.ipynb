{
 "cells": [
  {
   "cell_type": "code",
   "execution_count": 38,
   "metadata": {
    "collapsed": false
   },
   "outputs": [],
   "source": [
    "NEI <- readRDS(\"/Users/nitinsingh/github/EDA_Coursera_Week4/data/summarySCC_PM25.rds\")\n",
    "SCC <- readRDS(\"/Users/nitinsingh/github/EDA_Coursera_Week4/data/Source_Classification_Code.rds\")"
   ]
  },
  {
   "cell_type": "code",
   "execution_count": 39,
   "metadata": {
    "collapsed": false
   },
   "outputs": [
    {
     "data": {
      "text/html": [
       "<table>\n",
       "<thead><tr><th></th><th scope=col>fips</th><th scope=col>SCC</th><th scope=col>Pollutant</th><th scope=col>Emissions</th><th scope=col>type</th><th scope=col>year</th></tr></thead>\n",
       "<tbody>\n",
       "\t<tr><th scope=row>4</th><td>09001   </td><td>10100401</td><td>PM25-PRI</td><td> 15.714 </td><td>POINT   </td><td>1999    </td></tr>\n",
       "\t<tr><th scope=row>8</th><td>09001   </td><td>10100404</td><td>PM25-PRI</td><td>234.178 </td><td>POINT   </td><td>1999    </td></tr>\n",
       "\t<tr><th scope=row>12</th><td>09001   </td><td>10100501</td><td>PM25-PRI</td><td>  0.128 </td><td>POINT   </td><td>1999    </td></tr>\n",
       "\t<tr><th scope=row>16</th><td>09001   </td><td>10200401</td><td>PM25-PRI</td><td>  2.036 </td><td>POINT   </td><td>1999    </td></tr>\n",
       "\t<tr><th scope=row>20</th><td>09001   </td><td>10200504</td><td>PM25-PRI</td><td>  0.388 </td><td>POINT   </td><td>1999    </td></tr>\n",
       "\t<tr><th scope=row>24</th><td>09001   </td><td>10200602</td><td>PM25-PRI</td><td>  1.490 </td><td>POINT   </td><td>1999    </td></tr>\n",
       "</tbody>\n",
       "</table>\n"
      ],
      "text/latex": [
       "\\begin{tabular}{r|llllll}\n",
       "  & fips & SCC & Pollutant & Emissions & type & year\\\\\n",
       "\\hline\n",
       "\t4 & 09001    & 10100401 & PM25-PRI &  15.714  & POINT    & 1999    \\\\\n",
       "\t8 & 09001    & 10100404 & PM25-PRI & 234.178  & POINT    & 1999    \\\\\n",
       "\t12 & 09001    & 10100501 & PM25-PRI &   0.128  & POINT    & 1999    \\\\\n",
       "\t16 & 09001    & 10200401 & PM25-PRI &   2.036  & POINT    & 1999    \\\\\n",
       "\t20 & 09001    & 10200504 & PM25-PRI &   0.388  & POINT    & 1999    \\\\\n",
       "\t24 & 09001    & 10200602 & PM25-PRI &   1.490  & POINT    & 1999    \\\\\n",
       "\\end{tabular}\n"
      ],
      "text/markdown": [
       "\n",
       "| <!--/--> | fips | SCC | Pollutant | Emissions | type | year | \n",
       "|---|---|---|---|---|---|\n",
       "| 4 | 09001    | 10100401 | PM25-PRI |  15.714  | POINT    | 1999     | \n",
       "| 8 | 09001    | 10100404 | PM25-PRI | 234.178  | POINT    | 1999     | \n",
       "| 12 | 09001    | 10100501 | PM25-PRI |   0.128  | POINT    | 1999     | \n",
       "| 16 | 09001    | 10200401 | PM25-PRI |   2.036  | POINT    | 1999     | \n",
       "| 20 | 09001    | 10200504 | PM25-PRI |   0.388  | POINT    | 1999     | \n",
       "| 24 | 09001    | 10200602 | PM25-PRI |   1.490  | POINT    | 1999     | \n",
       "\n",
       "\n"
      ],
      "text/plain": [
       "   fips  SCC      Pollutant Emissions type  year\n",
       "4  09001 10100401 PM25-PRI   15.714   POINT 1999\n",
       "8  09001 10100404 PM25-PRI  234.178   POINT 1999\n",
       "12 09001 10100501 PM25-PRI    0.128   POINT 1999\n",
       "16 09001 10200401 PM25-PRI    2.036   POINT 1999\n",
       "20 09001 10200504 PM25-PRI    0.388   POINT 1999\n",
       "24 09001 10200602 PM25-PRI    1.490   POINT 1999"
      ]
     },
     "metadata": {},
     "output_type": "display_data"
    }
   ],
   "source": [
    "head(NEI)"
   ]
  },
  {
   "cell_type": "code",
   "execution_count": 40,
   "metadata": {
    "collapsed": false
   },
   "outputs": [],
   "source": [
    "# Randomly sampling NEI\n",
    "NEI_sampling <- NEI[sample(nrow(NEI), size = 2000, replace = F), ]"
   ]
  },
  {
   "cell_type": "code",
   "execution_count": 41,
   "metadata": {
    "collapsed": false,
    "scrolled": true
   },
   "outputs": [],
   "source": [
    "Emissions <- aggregate(NEI[, 'Emissions'], by=list(NEI$year), FUN=sum)"
   ]
  },
  {
   "cell_type": "code",
   "execution_count": 42,
   "metadata": {
    "collapsed": false
   },
   "outputs": [],
   "source": [
    "Emissions$PM <- round(Emissions[,2]/1000, digits = 2)"
   ]
  },
  {
   "cell_type": "code",
   "execution_count": 43,
   "metadata": {
    "collapsed": false
   },
   "outputs": [
    {
     "data": {
      "text/html": [
       "<strong>pdf:</strong> 2"
      ],
      "text/latex": [
       "\\textbf{pdf:} 2"
      ],
      "text/markdown": [
       "**pdf:** 2"
      ],
      "text/plain": [
       "pdf \n",
       "  2 "
      ]
     },
     "metadata": {},
     "output_type": "display_data"
    }
   ],
   "source": [
    "# Have total emissions from PM2.5 decreased in the United States from 1999 to 2008? \n",
    "# Using the base plotting system, make a plot showing the total PM2.5 emission from all sources \n",
    "# for each of the years 1999, 2002, 2005, and 2008.\n",
    "png(\"plot1.png\", width=480, height=480)\n",
    "barplot(Emissions$PM, names.arg=Emissions$Group.1, \n",
    "        main=expression('Total Emission of PM'[2.5]),\n",
    "        xlab='Year', ylab=expression(paste('PM', ''[2.5], ' in Kilotons')))\n",
    "dev.off()"
   ]
  },
  {
   "cell_type": "code",
   "execution_count": null,
   "metadata": {
    "collapsed": false
   },
   "outputs": [],
   "source": []
  },
  {
   "cell_type": "code",
   "execution_count": null,
   "metadata": {
    "collapsed": true
   },
   "outputs": [],
   "source": []
  }
 ],
 "metadata": {
  "kernelspec": {
   "display_name": "R",
   "language": "R",
   "name": "ir"
  },
  "language_info": {
   "codemirror_mode": "r",
   "file_extension": ".r",
   "mimetype": "text/x-r-source",
   "name": "R",
   "pygments_lexer": "r",
   "version": "3.3.2"
  }
 },
 "nbformat": 4,
 "nbformat_minor": 0
}
