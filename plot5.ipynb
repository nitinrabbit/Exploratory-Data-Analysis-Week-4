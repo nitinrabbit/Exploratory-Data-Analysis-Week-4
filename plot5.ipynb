{
 "cells": [
  {
   "cell_type": "code",
   "execution_count": 1,
   "metadata": {
    "collapsed": true
   },
   "outputs": [],
   "source": [
    "NEI <- readRDS(\"/Users/nitinsingh/github/EDA_Coursera_Week4/data/summarySCC_PM25.rds\")\n",
    "SCC <- readRDS(\"/Users/nitinsingh/github/EDA_Coursera_Week4/data/Source_Classification_Code.rds\")"
   ]
  },
  {
   "cell_type": "code",
   "execution_count": 2,
   "metadata": {
    "collapsed": false
   },
   "outputs": [
    {
     "data": {},
     "metadata": {},
     "output_type": "display_data"
    },
    {
     "data": {
      "text/html": [
       "<strong>pdf:</strong> 2"
      ],
      "text/latex": [
       "\\textbf{pdf:} 2"
      ],
      "text/markdown": [
       "**pdf:** 2"
      ],
      "text/plain": [
       "pdf \n",
       "  2 "
      ]
     },
     "metadata": {},
     "output_type": "display_data"
    }
   ],
   "source": [
    "vehicles <- grepl(\"vehicle\", SCC$SCC.Level.Two, ignore.case=TRUE)\n",
    "vehiclesSCC <- SCC[vehicles,]$SCC\n",
    "vehiclesNEI <- NEI[NEI$SCC %in% vehiclesSCC,]\n",
    "\n",
    "baltimoreVehiclesNEI <- vehiclesNEI[vehiclesNEI$fips==24510,]\n",
    "\n",
    "library(ggplot2)\n",
    "png(\"plot5.png\", width=480, height=480)\n",
    "ggplot(baltimoreVehiclesNEI,aes(factor(year),Emissions)) +\n",
    "  geom_bar(stat=\"identity\",fill=\"grey\",width=0.75) +\n",
    "  theme_bw() +  guides(fill=FALSE) +\n",
    "  labs(x=\"year\", y=expression(\"Total PM\"[2.5]*\" Emission (10^5 Tons)\")) + \n",
    "  labs(title=expression(\"PM\"[2.5]*\" Motor Vehicle Source Emissions in Baltimore from 1999-2008\"))\n",
    "dev.off()"
   ]
  },
  {
   "cell_type": "code",
   "execution_count": null,
   "metadata": {
    "collapsed": true
   },
   "outputs": [],
   "source": []
  }
 ],
 "metadata": {
  "kernelspec": {
   "display_name": "R",
   "language": "R",
   "name": "ir"
  },
  "language_info": {
   "codemirror_mode": "r",
   "file_extension": ".r",
   "mimetype": "text/x-r-source",
   "name": "R",
   "pygments_lexer": "r",
   "version": "3.3.2"
  }
 },
 "nbformat": 4,
 "nbformat_minor": 0
}
