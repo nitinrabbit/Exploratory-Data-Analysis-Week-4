{
 "cells": [
  {
   "cell_type": "code",
   "execution_count": 1,
   "metadata": {
    "collapsed": true
   },
   "outputs": [],
   "source": [
    "NEI <- readRDS(\"/Users/nitinsingh/github/EDA_Coursera_Week4/data/summarySCC_PM25.rds\")\n",
    "SCC <- readRDS(\"/Users/nitinsingh/github/EDA_Coursera_Week4/data/Source_Classification_Code.rds\")"
   ]
  },
  {
   "cell_type": "code",
   "execution_count": 3,
   "metadata": {
    "collapsed": false
   },
   "outputs": [
    {
     "data": {
      "text/html": [
       "<table>\n",
       "<thead><tr><th scope=col>SCC</th><th scope=col>Data.Category</th><th scope=col>Short.Name</th><th scope=col>EI.Sector</th><th scope=col>Option.Group</th><th scope=col>Option.Set</th><th scope=col>SCC.Level.One</th><th scope=col>SCC.Level.Two</th><th scope=col>SCC.Level.Three</th><th scope=col>SCC.Level.Four</th><th scope=col>Map.To</th><th scope=col>Last.Inventory.Year</th><th scope=col>Created_Date</th><th scope=col>Revised_Date</th><th scope=col>Usage.Notes</th></tr></thead>\n",
       "<tbody>\n",
       "\t<tr><td>10100101                                                                  </td><td>Point                                                                     </td><td>Ext Comb /Electric Gen /Anthracite Coal /Pulverized Coal                  </td><td>Fuel Comb - Electric Generation - Coal                                    </td><td>                                                                          </td><td>                                                                          </td><td>External Combustion Boilers                                               </td><td>Electric Generation                                                       </td><td>Anthracite Coal                                                           </td><td>Pulverized Coal                                                           </td><td>NA                                                                        </td><td>NA                                                                        </td><td>                                                                          </td><td>                                                                          </td><td>                                                                          </td></tr>\n",
       "\t<tr><td>10100102                                                                  </td><td>Point                                                                     </td><td>Ext Comb /Electric Gen /Anthracite Coal /Traveling Grate (Overfeed) Stoker</td><td>Fuel Comb - Electric Generation - Coal                                    </td><td>                                                                          </td><td>                                                                          </td><td>External Combustion Boilers                                               </td><td>Electric Generation                                                       </td><td>Anthracite Coal                                                           </td><td>Traveling Grate (Overfeed) Stoker                                         </td><td>NA                                                                        </td><td>NA                                                                        </td><td>                                                                          </td><td>                                                                          </td><td>                                                                          </td></tr>\n",
       "\t<tr><td>10100201                                                                  </td><td>Point                                                                     </td><td>Ext Comb /Electric Gen /Bituminous Coal /Pulverized Coal: Wet Bottom      </td><td>Fuel Comb - Electric Generation - Coal                                    </td><td>                                                                          </td><td>                                                                          </td><td>External Combustion Boilers                                               </td><td>Electric Generation                                                       </td><td>Bituminous/Subbituminous Coal                                             </td><td>Pulverized Coal: Wet Bottom (Bituminous Coal)                             </td><td>NA                                                                        </td><td>NA                                                                        </td><td>                                                                          </td><td>                                                                          </td><td>                                                                          </td></tr>\n",
       "\t<tr><td>10100202                                                                  </td><td>Point                                                                     </td><td>Ext Comb /Electric Gen /Bituminous Coal /Pulverized Coal: Dry Bottom      </td><td>Fuel Comb - Electric Generation - Coal                                    </td><td>                                                                          </td><td>                                                                          </td><td>External Combustion Boilers                                               </td><td>Electric Generation                                                       </td><td>Bituminous/Subbituminous Coal                                             </td><td>Pulverized Coal: Dry Bottom (Bituminous Coal)                             </td><td>NA                                                                        </td><td>NA                                                                        </td><td>                                                                          </td><td>                                                                          </td><td>                                                                          </td></tr>\n",
       "\t<tr><td>10100203                                                                  </td><td>Point                                                                     </td><td>Ext Comb /Electric Gen /Bituminous Coal /Cyclone Furnace                  </td><td>Fuel Comb - Electric Generation - Coal                                    </td><td>                                                                          </td><td>                                                                          </td><td>External Combustion Boilers                                               </td><td>Electric Generation                                                       </td><td>Bituminous/Subbituminous Coal                                             </td><td>Cyclone Furnace (Bituminous Coal)                                         </td><td>NA                                                                        </td><td>NA                                                                        </td><td>                                                                          </td><td>                                                                          </td><td>                                                                          </td></tr>\n",
       "\t<tr><td>10100204                                                                  </td><td>Point                                                                     </td><td>Ext Comb /Electric Gen /Bituminous Coal /Spreader Stoker                  </td><td>Fuel Comb - Electric Generation - Coal                                    </td><td>                                                                          </td><td>                                                                          </td><td>External Combustion Boilers                                               </td><td>Electric Generation                                                       </td><td>Bituminous/Subbituminous Coal                                             </td><td>Spreader Stoker (Bituminous Coal)                                         </td><td>NA                                                                        </td><td>NA                                                                        </td><td>                                                                          </td><td>                                                                          </td><td>                                                                          </td></tr>\n",
       "</tbody>\n",
       "</table>\n"
      ],
      "text/latex": [
       "\\begin{tabular}{r|lllllllllllllll}\n",
       " SCC & Data.Category & Short.Name & EI.Sector & Option.Group & Option.Set & SCC.Level.One & SCC.Level.Two & SCC.Level.Three & SCC.Level.Four & Map.To & Last.Inventory.Year & Created\\_Date & Revised\\_Date & Usage.Notes\\\\\n",
       "\\hline\n",
       "\t 10100101                                                                   & Point                                                                      & Ext Comb /Electric Gen /Anthracite Coal /Pulverized Coal                   & Fuel Comb - Electric Generation - Coal                                     &                                                                            &                                                                            & External Combustion Boilers                                                & Electric Generation                                                        & Anthracite Coal                                                            & Pulverized Coal                                                            & NA                                                                         & NA                                                                         &                                                                            &                                                                            &                                                                           \\\\\n",
       "\t 10100102                                                                   & Point                                                                      & Ext Comb /Electric Gen /Anthracite Coal /Traveling Grate (Overfeed) Stoker & Fuel Comb - Electric Generation - Coal                                     &                                                                            &                                                                            & External Combustion Boilers                                                & Electric Generation                                                        & Anthracite Coal                                                            & Traveling Grate (Overfeed) Stoker                                          & NA                                                                         & NA                                                                         &                                                                            &                                                                            &                                                                           \\\\\n",
       "\t 10100201                                                                   & Point                                                                      & Ext Comb /Electric Gen /Bituminous Coal /Pulverized Coal: Wet Bottom       & Fuel Comb - Electric Generation - Coal                                     &                                                                            &                                                                            & External Combustion Boilers                                                & Electric Generation                                                        & Bituminous/Subbituminous Coal                                              & Pulverized Coal: Wet Bottom (Bituminous Coal)                              & NA                                                                         & NA                                                                         &                                                                            &                                                                            &                                                                           \\\\\n",
       "\t 10100202                                                                   & Point                                                                      & Ext Comb /Electric Gen /Bituminous Coal /Pulverized Coal: Dry Bottom       & Fuel Comb - Electric Generation - Coal                                     &                                                                            &                                                                            & External Combustion Boilers                                                & Electric Generation                                                        & Bituminous/Subbituminous Coal                                              & Pulverized Coal: Dry Bottom (Bituminous Coal)                              & NA                                                                         & NA                                                                         &                                                                            &                                                                            &                                                                           \\\\\n",
       "\t 10100203                                                                   & Point                                                                      & Ext Comb /Electric Gen /Bituminous Coal /Cyclone Furnace                   & Fuel Comb - Electric Generation - Coal                                     &                                                                            &                                                                            & External Combustion Boilers                                                & Electric Generation                                                        & Bituminous/Subbituminous Coal                                              & Cyclone Furnace (Bituminous Coal)                                          & NA                                                                         & NA                                                                         &                                                                            &                                                                            &                                                                           \\\\\n",
       "\t 10100204                                                                   & Point                                                                      & Ext Comb /Electric Gen /Bituminous Coal /Spreader Stoker                   & Fuel Comb - Electric Generation - Coal                                     &                                                                            &                                                                            & External Combustion Boilers                                                & Electric Generation                                                        & Bituminous/Subbituminous Coal                                              & Spreader Stoker (Bituminous Coal)                                          & NA                                                                         & NA                                                                         &                                                                            &                                                                            &                                                                           \\\\\n",
       "\\end{tabular}\n"
      ],
      "text/markdown": [
       "\n",
       "SCC | Data.Category | Short.Name | EI.Sector | Option.Group | Option.Set | SCC.Level.One | SCC.Level.Two | SCC.Level.Three | SCC.Level.Four | Map.To | Last.Inventory.Year | Created_Date | Revised_Date | Usage.Notes | \n",
       "|---|---|---|---|---|---|\n",
       "| 10100101                                                                   | Point                                                                      | Ext Comb /Electric Gen /Anthracite Coal /Pulverized Coal                   | Fuel Comb - Electric Generation - Coal                                     |                                                                            |                                                                            | External Combustion Boilers                                                | Electric Generation                                                        | Anthracite Coal                                                            | Pulverized Coal                                                            | NA                                                                         | NA                                                                         |                                                                            |                                                                            |                                                                            | \n",
       "| 10100102                                                                   | Point                                                                      | Ext Comb /Electric Gen /Anthracite Coal /Traveling Grate (Overfeed) Stoker | Fuel Comb - Electric Generation - Coal                                     |                                                                            |                                                                            | External Combustion Boilers                                                | Electric Generation                                                        | Anthracite Coal                                                            | Traveling Grate (Overfeed) Stoker                                          | NA                                                                         | NA                                                                         |                                                                            |                                                                            |                                                                            | \n",
       "| 10100201                                                                   | Point                                                                      | Ext Comb /Electric Gen /Bituminous Coal /Pulverized Coal: Wet Bottom       | Fuel Comb - Electric Generation - Coal                                     |                                                                            |                                                                            | External Combustion Boilers                                                | Electric Generation                                                        | Bituminous/Subbituminous Coal                                              | Pulverized Coal: Wet Bottom (Bituminous Coal)                              | NA                                                                         | NA                                                                         |                                                                            |                                                                            |                                                                            | \n",
       "| 10100202                                                                   | Point                                                                      | Ext Comb /Electric Gen /Bituminous Coal /Pulverized Coal: Dry Bottom       | Fuel Comb - Electric Generation - Coal                                     |                                                                            |                                                                            | External Combustion Boilers                                                | Electric Generation                                                        | Bituminous/Subbituminous Coal                                              | Pulverized Coal: Dry Bottom (Bituminous Coal)                              | NA                                                                         | NA                                                                         |                                                                            |                                                                            |                                                                            | \n",
       "| 10100203                                                                   | Point                                                                      | Ext Comb /Electric Gen /Bituminous Coal /Cyclone Furnace                   | Fuel Comb - Electric Generation - Coal                                     |                                                                            |                                                                            | External Combustion Boilers                                                | Electric Generation                                                        | Bituminous/Subbituminous Coal                                              | Cyclone Furnace (Bituminous Coal)                                          | NA                                                                         | NA                                                                         |                                                                            |                                                                            |                                                                            | \n",
       "| 10100204                                                                   | Point                                                                      | Ext Comb /Electric Gen /Bituminous Coal /Spreader Stoker                   | Fuel Comb - Electric Generation - Coal                                     |                                                                            |                                                                            | External Combustion Boilers                                                | Electric Generation                                                        | Bituminous/Subbituminous Coal                                              | Spreader Stoker (Bituminous Coal)                                          | NA                                                                         | NA                                                                         |                                                                            |                                                                            |                                                                            | \n",
       "\n",
       "\n"
      ],
      "text/plain": [
       "  SCC      Data.Category\n",
       "1 10100101 Point        \n",
       "2 10100102 Point        \n",
       "3 10100201 Point        \n",
       "4 10100202 Point        \n",
       "5 10100203 Point        \n",
       "6 10100204 Point        \n",
       "  Short.Name                                                                \n",
       "1 Ext Comb /Electric Gen /Anthracite Coal /Pulverized Coal                  \n",
       "2 Ext Comb /Electric Gen /Anthracite Coal /Traveling Grate (Overfeed) Stoker\n",
       "3 Ext Comb /Electric Gen /Bituminous Coal /Pulverized Coal: Wet Bottom      \n",
       "4 Ext Comb /Electric Gen /Bituminous Coal /Pulverized Coal: Dry Bottom      \n",
       "5 Ext Comb /Electric Gen /Bituminous Coal /Cyclone Furnace                  \n",
       "6 Ext Comb /Electric Gen /Bituminous Coal /Spreader Stoker                  \n",
       "  EI.Sector                              Option.Group Option.Set\n",
       "1 Fuel Comb - Electric Generation - Coal                        \n",
       "2 Fuel Comb - Electric Generation - Coal                        \n",
       "3 Fuel Comb - Electric Generation - Coal                        \n",
       "4 Fuel Comb - Electric Generation - Coal                        \n",
       "5 Fuel Comb - Electric Generation - Coal                        \n",
       "6 Fuel Comb - Electric Generation - Coal                        \n",
       "  SCC.Level.One               SCC.Level.Two       SCC.Level.Three              \n",
       "1 External Combustion Boilers Electric Generation Anthracite Coal              \n",
       "2 External Combustion Boilers Electric Generation Anthracite Coal              \n",
       "3 External Combustion Boilers Electric Generation Bituminous/Subbituminous Coal\n",
       "4 External Combustion Boilers Electric Generation Bituminous/Subbituminous Coal\n",
       "5 External Combustion Boilers Electric Generation Bituminous/Subbituminous Coal\n",
       "6 External Combustion Boilers Electric Generation Bituminous/Subbituminous Coal\n",
       "  SCC.Level.Four                                Map.To Last.Inventory.Year\n",
       "1 Pulverized Coal                               NA     NA                 \n",
       "2 Traveling Grate (Overfeed) Stoker             NA     NA                 \n",
       "3 Pulverized Coal: Wet Bottom (Bituminous Coal) NA     NA                 \n",
       "4 Pulverized Coal: Dry Bottom (Bituminous Coal) NA     NA                 \n",
       "5 Cyclone Furnace (Bituminous Coal)             NA     NA                 \n",
       "6 Spreader Stoker (Bituminous Coal)             NA     NA                 \n",
       "  Created_Date Revised_Date Usage.Notes\n",
       "1                                      \n",
       "2                                      \n",
       "3                                      \n",
       "4                                      \n",
       "5                                      \n",
       "6                                      "
      ]
     },
     "metadata": {},
     "output_type": "display_data"
    }
   ],
   "source": [
    "head(SCC)"
   ]
  },
  {
   "cell_type": "code",
   "execution_count": 8,
   "metadata": {
    "collapsed": false
   },
   "outputs": [
    {
     "data": {},
     "metadata": {},
     "output_type": "display_data"
    },
    {
     "data": {
      "text/html": [
       "<strong>pdf:</strong> 2"
      ],
      "text/latex": [
       "\\textbf{pdf:} 2"
      ],
      "text/markdown": [
       "**pdf:** 2"
      ],
      "text/plain": [
       "pdf \n",
       "  2 "
      ]
     },
     "metadata": {},
     "output_type": "display_data"
    }
   ],
   "source": [
    "combustionRelated <- grepl(\"comb\", SCC$SCC.Level.One, ignore.case=TRUE)\n",
    "coalRelated <- grepl(\"coal\", SCC$SCC.Level.Four, ignore.case=TRUE) \n",
    "coalCombustion <- (combustionRelated & coalRelated)\n",
    "combustionSCC <- SCC[coalCombustion,]$SCC\n",
    "combustionNEI <- NEI[NEI$SCC %in% combustionSCC,]\n",
    "\n",
    "library(ggplot2)\n",
    "\n",
    "png(\"plot4.png\", width=480, height=480)\n",
    "ggplot(combustionNEI,aes(factor(year),Emissions/10^5)) +\n",
    "  geom_bar(stat=\"identity\",fill=\"grey\",width=0.75) +\n",
    "  theme_bw() +  guides(fill=FALSE) +\n",
    "  labs(x=\"year\", y=expression(\"Total PM\"[2.5]*\" Emission (10^5 Tons)\")) + \n",
    "  labs(title=expression(\"PM\"[2.5]*\" Coal Combustion Source Emissions Across US from 1999-2008\"))\n",
    "dev.off()\n",
    "#print(ggp)"
   ]
  },
  {
   "cell_type": "code",
   "execution_count": null,
   "metadata": {
    "collapsed": true
   },
   "outputs": [],
   "source": []
  }
 ],
 "metadata": {
  "kernelspec": {
   "display_name": "R",
   "language": "R",
   "name": "ir"
  },
  "language_info": {
   "codemirror_mode": "r",
   "file_extension": ".r",
   "mimetype": "text/x-r-source",
   "name": "R",
   "pygments_lexer": "r",
   "version": "3.3.2"
  }
 },
 "nbformat": 4,
 "nbformat_minor": 0
}
